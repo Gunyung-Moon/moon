{
 "cells": [
  {
   "cell_type": "code",
   "execution_count": 4,
   "id": "02a3c8bb",
   "metadata": {},
   "outputs": [
    {
     "name": "stdout",
     "output_type": "stream",
     "text": [
      "number는 양수입니다\n"
     ]
    }
   ],
   "source": [
    "'''\n",
    "    조건 : if, elif\n",
    "    \n",
    "    순환 : for, while, do while\n",
    "    \n",
    "    제어 : continue, break\n",
    "\n",
    "    if 조건 [or, and 조건1] :   -> 논리\n",
    "        조건이 True일 경우의 처리\n",
    "'''\n",
    "\n",
    "number = 3\n",
    "\n",
    "if number > 0:\n",
    "    print(\"number는 양수입니다\")"
   ]
  },
  {
   "cell_type": "code",
   "execution_count": 5,
   "id": "8b155116",
   "metadata": {},
   "outputs": [],
   "source": [
    "if number < 0:\n",
    "    print(\"number는 음수입니다\")"
   ]
  },
  {
   "cell_type": "code",
   "execution_count": 7,
   "id": "919946ba",
   "metadata": {},
   "outputs": [
    {
     "name": "stdout",
     "output_type": "stream",
     "text": [
      "number는 3입니다\n"
     ]
    }
   ],
   "source": [
    "if number == 3:\n",
    "    print(\"number는 3입니다\")"
   ]
  },
  {
   "cell_type": "code",
   "execution_count": 10,
   "id": "fa6ca7ea",
   "metadata": {},
   "outputs": [
    {
     "name": "stdout",
     "output_type": "stream",
     "text": [
      "정수입력 > 57\n",
      "홀수입니다\n"
     ]
    }
   ],
   "source": [
    "number = int(input(\"정수입력 > \"))\n",
    "\n",
    "if number % 2 == 0:\n",
    "    print('짝수입니다')\n",
    "    \n",
    "if number % 2 != 0:\n",
    "    print('홀수입니다')\n"
   ]
  },
  {
   "cell_type": "markdown",
   "id": "714851a2",
   "metadata": {},
   "source": [
    "### else"
   ]
  },
  {
   "cell_type": "code",
   "execution_count": 11,
   "id": "3f5e97cd",
   "metadata": {
    "scrolled": true
   },
   "outputs": [
    {
     "name": "stdout",
     "output_type": "stream",
     "text": [
      "정수입력 > 13\n",
      "홀수입니다\n"
     ]
    }
   ],
   "source": [
    "number = int(input(\"정수입력 > \"))\n",
    "\n",
    "if number % 2 == 0:\n",
    "    print('짝수입니다')\n",
    "else:\n",
    "    print('홀수입니다')"
   ]
  },
  {
   "cell_type": "code",
   "execution_count": 12,
   "id": "c6be2434",
   "metadata": {},
   "outputs": [],
   "source": [
    "'''\n",
    "module : 다른 사람이 먼저 제작해 놓은 기능\n",
    "'''\n",
    "\n",
    "import datetime"
   ]
  },
  {
   "cell_type": "code",
   "execution_count": 13,
   "id": "ff72d006",
   "metadata": {},
   "outputs": [
    {
     "data": {
      "text/plain": [
       "datetime.datetime(2022, 8, 30, 9, 34, 36, 543272)"
      ]
     },
     "execution_count": 13,
     "metadata": {},
     "output_type": "execute_result"
    }
   ],
   "source": [
    "now = datetime.datetime.now() # getter\n",
    "now"
   ]
  },
  {
   "cell_type": "code",
   "execution_count": 14,
   "id": "6a56007e",
   "metadata": {},
   "outputs": [
    {
     "data": {
      "text/plain": [
       "2022"
      ]
     },
     "execution_count": 14,
     "metadata": {},
     "output_type": "execute_result"
    }
   ],
   "source": [
    "now.year"
   ]
  },
  {
   "cell_type": "code",
   "execution_count": 15,
   "id": "453065bc",
   "metadata": {},
   "outputs": [
    {
     "data": {
      "text/plain": [
       "8"
      ]
     },
     "execution_count": 15,
     "metadata": {},
     "output_type": "execute_result"
    }
   ],
   "source": [
    "now.month"
   ]
  },
  {
   "cell_type": "code",
   "execution_count": 16,
   "id": "6a2c3fa7",
   "metadata": {},
   "outputs": [
    {
     "data": {
      "text/plain": [
       "30"
      ]
     },
     "execution_count": 16,
     "metadata": {},
     "output_type": "execute_result"
    }
   ],
   "source": [
    "now.day"
   ]
  },
  {
   "cell_type": "code",
   "execution_count": 17,
   "id": "44e800c4",
   "metadata": {},
   "outputs": [
    {
     "data": {
      "text/plain": [
       "9"
      ]
     },
     "execution_count": 17,
     "metadata": {},
     "output_type": "execute_result"
    }
   ],
   "source": [
    "now.hour"
   ]
  },
  {
   "cell_type": "code",
   "execution_count": 18,
   "id": "f1e934f5",
   "metadata": {},
   "outputs": [
    {
     "data": {
      "text/plain": [
       "34"
      ]
     },
     "execution_count": 18,
     "metadata": {},
     "output_type": "execute_result"
    }
   ],
   "source": [
    "now.minute"
   ]
  },
  {
   "cell_type": "code",
   "execution_count": 19,
   "id": "99f12a8b",
   "metadata": {},
   "outputs": [
    {
     "data": {
      "text/plain": [
       "36"
      ]
     },
     "execution_count": 19,
     "metadata": {},
     "output_type": "execute_result"
    }
   ],
   "source": [
    "now.second"
   ]
  },
  {
   "cell_type": "code",
   "execution_count": 21,
   "id": "18c4f15f",
   "metadata": {
    "scrolled": true
   },
   "outputs": [
    {
     "name": "stdout",
     "output_type": "stream",
     "text": [
      "현재 시간은 9시로 오전입니다\n"
     ]
    }
   ],
   "source": [
    "if now.hour < 12:\n",
    "    print(\"현재 시간은 {}시로 오전입니다\".format(now.hour))"
   ]
  },
  {
   "cell_type": "code",
   "execution_count": 22,
   "id": "8a4a15ee",
   "metadata": {},
   "outputs": [
    {
     "data": {
      "text/plain": [
       "datetime.datetime(2022, 12, 24, 12, 35, 45)"
      ]
     },
     "execution_count": 22,
     "metadata": {},
     "output_type": "execute_result"
    }
   ],
   "source": [
    "## setter\n",
    "setTime = datetime.datetime.strptime('2022-12-24 12:35:45', \n",
    "                                     '%Y-%m-%d %H:%M:%S')\n",
    "setTime"
   ]
  },
  {
   "cell_type": "code",
   "execution_count": 23,
   "id": "85fdeedc",
   "metadata": {
    "scrolled": true
   },
   "outputs": [
    {
     "data": {
      "text/plain": [
       "datetime.datetime(2022, 11, 30, 12, 35, 45)"
      ]
     },
     "execution_count": 23,
     "metadata": {},
     "output_type": "execute_result"
    }
   ],
   "source": [
    "setTime = datetime.datetime.strptime('20221130123545', \n",
    "                                     '%Y%m%d%H%M%S')\n",
    "setTime"
   ]
  },
  {
   "cell_type": "code",
   "execution_count": 24,
   "id": "10666762",
   "metadata": {},
   "outputs": [
    {
     "name": "stdout",
     "output_type": "stream",
     "text": [
      "현재는 가을입니다\n"
     ]
    }
   ],
   "source": [
    "### 조건분기 (다수조건)\n",
    "month = setTime.month\n",
    "if month >= 3 and month <= 5:\n",
    "    print(\"현재는 봄입니다\")\n",
    "elif 6 <= month <= 8:\n",
    "    print(\"현재는 여름입니다\")\n",
    "elif 9 <= month <= 11:\n",
    "    print(\"현재는 가을입니다\")    \n",
    "else:\n",
    "    print(\"현재는 겨울입니다\")"
   ]
  },
  {
   "cell_type": "code",
   "execution_count": 27,
   "id": "45f62eaa",
   "metadata": {},
   "outputs": [],
   "source": [
    "### pass\n",
    "'''\n",
    "조건에 정의는 설정했는데 처리가 결정되지 않은 경우\n",
    "'''\n",
    "\n",
    "number = 5\n",
    "\n",
    "if number > 0:\n",
    "    # 양수일 경우\n",
    "    pass\n",
    "else:\n",
    "    # 음수일 경우\n",
    "    pass\n"
   ]
  },
  {
   "cell_type": "markdown",
   "id": "38d7b868",
   "metadata": {},
   "source": [
    " "
   ]
  },
  {
   "cell_type": "code",
   "execution_count": null,
   "id": "b05d79cb",
   "metadata": {},
   "outputs": [],
   "source": [
    "### tuple, list, dictionary  -> 변수들의 묶음\n",
    "### array(배열)\n",
    "'''\n",
    "array : 같은 자료형 변수의 묶음 == tuple(대입용)\n",
    "\n",
    "    array = []\n",
    "    array = [1, 2, 3]\n",
    "    array[0] -> 1        0 -> index number\n",
    "    array[1] -> 2\n",
    "    array[2] -> 3\n",
    "    \n",
    "list : 유동적(추가, 삭제)인 배열\n",
    "'''\n",
    "number = 1\n",
    "\n",
    "number1 = 1\n",
    "number2 = 2\n",
    "number3 = 3"
   ]
  },
  {
   "cell_type": "code",
   "execution_count": 28,
   "id": "6a25f7bc",
   "metadata": {},
   "outputs": [
    {
     "data": {
      "text/plain": [
       "(11, 22, 33)"
      ]
     },
     "execution_count": 28,
     "metadata": {},
     "output_type": "execute_result"
    }
   ],
   "source": [
    "### tuple : 대입, 변경불가, 추가, 삭제불가\n",
    "tu = (11, 22, 33)  # -> 요소(element)\n",
    "\n",
    "tu"
   ]
  },
  {
   "cell_type": "code",
   "execution_count": 29,
   "id": "83122d78",
   "metadata": {},
   "outputs": [
    {
     "data": {
      "text/plain": [
       "11"
      ]
     },
     "execution_count": 29,
     "metadata": {},
     "output_type": "execute_result"
    }
   ],
   "source": [
    "tu[0]"
   ]
  },
  {
   "cell_type": "code",
   "execution_count": 30,
   "id": "232829cc",
   "metadata": {},
   "outputs": [
    {
     "ename": "TypeError",
     "evalue": "'tuple' object does not support item assignment",
     "output_type": "error",
     "traceback": [
      "\u001b[1;31m---------------------------------------------------------------------------\u001b[0m",
      "\u001b[1;31mTypeError\u001b[0m                                 Traceback (most recent call last)",
      "Input \u001b[1;32mIn [30]\u001b[0m, in \u001b[0;36m<cell line: 1>\u001b[1;34m()\u001b[0m\n\u001b[1;32m----> 1\u001b[0m tu[\u001b[38;5;241m1\u001b[39m] \u001b[38;5;241m=\u001b[39m \u001b[38;5;241m2\u001b[39m\n",
      "\u001b[1;31mTypeError\u001b[0m: 'tuple' object does not support item assignment"
     ]
    }
   ],
   "source": [
    "tu[1] = 2"
   ]
  },
  {
   "cell_type": "code",
   "execution_count": 31,
   "id": "0bbffc7d",
   "metadata": {},
   "outputs": [
    {
     "data": {
      "text/plain": [
       "[11, 22, 33, '안녕', True]"
      ]
     },
     "execution_count": 31,
     "metadata": {},
     "output_type": "execute_result"
    }
   ],
   "source": [
    "### list 변수들의 묶음. 요소를 추가하고 삭제할 수 있다.\n",
    "\n",
    "mylist= [ 11, 22, 33, \"안녕\", True ]\n",
    "\n",
    "mylist"
   ]
  },
  {
   "cell_type": "code",
   "execution_count": 32,
   "id": "dc887100",
   "metadata": {},
   "outputs": [
    {
     "data": {
      "text/plain": [
       "'안녕'"
      ]
     },
     "execution_count": 32,
     "metadata": {},
     "output_type": "execute_result"
    }
   ],
   "source": [
    "mylist[3]"
   ]
  },
  {
   "cell_type": "code",
   "execution_count": 33,
   "id": "4696be77",
   "metadata": {},
   "outputs": [
    {
     "data": {
      "text/plain": [
       "[11, 22, 33]"
      ]
     },
     "execution_count": 33,
     "metadata": {},
     "output_type": "execute_result"
    }
   ],
   "source": [
    "mylist[0:3]"
   ]
  },
  {
   "cell_type": "code",
   "execution_count": 34,
   "id": "af78ead4",
   "metadata": {},
   "outputs": [
    {
     "data": {
      "text/plain": [
       "True"
      ]
     },
     "execution_count": 34,
     "metadata": {},
     "output_type": "execute_result"
    }
   ],
   "source": [
    "mylist[-1]"
   ]
  },
  {
   "cell_type": "code",
   "execution_count": 35,
   "id": "e6167791",
   "metadata": {},
   "outputs": [
    {
     "data": {
      "text/plain": [
       "[33, '안녕', True]"
      ]
     },
     "execution_count": 35,
     "metadata": {},
     "output_type": "execute_result"
    }
   ],
   "source": [
    "mylist[2:]"
   ]
  },
  {
   "cell_type": "code",
   "execution_count": 36,
   "id": "4ca572f8",
   "metadata": {},
   "outputs": [
    {
     "data": {
      "text/plain": [
       "[1, 2, 3, 4, 5, 6]"
      ]
     },
     "execution_count": 36,
     "metadata": {},
     "output_type": "execute_result"
    }
   ],
   "source": [
    "list_a = [1, 2, 3]\n",
    "list_b = [4, 5, 6]\n",
    "\n",
    "list_a + list_b"
   ]
  },
  {
   "cell_type": "code",
   "execution_count": 37,
   "id": "c7982db7",
   "metadata": {},
   "outputs": [
    {
     "data": {
      "text/plain": [
       "[1, 2, 3, 1, 2, 3, 1, 2, 3]"
      ]
     },
     "execution_count": 37,
     "metadata": {},
     "output_type": "execute_result"
    }
   ],
   "source": [
    "list_a * 3"
   ]
  },
  {
   "cell_type": "code",
   "execution_count": 49,
   "id": "d353b68a",
   "metadata": {
    "scrolled": true
   },
   "outputs": [
    {
     "data": {
      "text/plain": [
       "[1, 2, 3, 6, 11, 12, 13, 6, 7, 8]"
      ]
     },
     "execution_count": 49,
     "metadata": {},
     "output_type": "execute_result"
    }
   ],
   "source": [
    "list_a"
   ]
  },
  {
   "cell_type": "code",
   "execution_count": 50,
   "id": "1c7d3723",
   "metadata": {},
   "outputs": [
    {
     "data": {
      "text/plain": [
       "[1, 2, 3, 6, 11, 12, 13, 6, 7, 8, 4]"
      ]
     },
     "execution_count": 50,
     "metadata": {},
     "output_type": "execute_result"
    }
   ],
   "source": [
    "# (요소(element) or node)추가 \n",
    "list_a.append(4)\n",
    "list_a"
   ]
  },
  {
   "cell_type": "code",
   "execution_count": 51,
   "id": "288e565d",
   "metadata": {},
   "outputs": [
    {
     "data": {
      "text/plain": [
       "[1, 2, 5, 3, 6, 11, 12, 13, 6, 7, 8, 4]"
      ]
     },
     "execution_count": 51,
     "metadata": {},
     "output_type": "execute_result"
    }
   ],
   "source": [
    "list_a.insert(2, 5)\n",
    "list_a"
   ]
  },
  {
   "cell_type": "code",
   "execution_count": 52,
   "id": "3c3b4488",
   "metadata": {},
   "outputs": [
    {
     "data": {
      "text/plain": [
       "[1, 2, 5, 3, 6, 11, 12, 13, 6, 7, 8, 4, 6, 7, 8]"
      ]
     },
     "execution_count": 52,
     "metadata": {},
     "output_type": "execute_result"
    }
   ],
   "source": [
    "list_a.extend([6, 7, 8])\n",
    "list_a"
   ]
  },
  {
   "cell_type": "code",
   "execution_count": 53,
   "id": "ea6bef92",
   "metadata": {},
   "outputs": [
    {
     "data": {
      "text/plain": [
       "[1, 2, 5, 3, 6, 11, 12, 13, 6, 7, 8, 4, 6, 7, 8, 11, 12, 13]"
      ]
     },
     "execution_count": 53,
     "metadata": {},
     "output_type": "execute_result"
    }
   ],
   "source": [
    "list_b = [11, 12, 13]\n",
    "list_a.extend(list_b)\n",
    "list_a"
   ]
  },
  {
   "cell_type": "code",
   "execution_count": 54,
   "id": "e4547e7a",
   "metadata": {},
   "outputs": [],
   "source": [
    "### CRUD -> Data Access Object\n",
    "### 추가, 삭제, 검색, 수정\n",
    "### Create Delete Read Update"
   ]
  },
  {
   "cell_type": "code",
   "execution_count": 55,
   "id": "d2fceee6",
   "metadata": {},
   "outputs": [
    {
     "data": {
      "text/plain": [
       "[1, 2, 5, 3, 11, 12, 13, 6, 7, 8, 4, 6, 7, 8, 11, 12, 13]"
      ]
     },
     "execution_count": 55,
     "metadata": {},
     "output_type": "execute_result"
    }
   ],
   "source": [
    "del list_a[4]\n",
    "list_a"
   ]
  },
  {
   "cell_type": "code",
   "execution_count": 56,
   "id": "5bde2413",
   "metadata": {},
   "outputs": [
    {
     "data": {
      "text/plain": [
       "[1, 2, 3, 11, 12, 13, 6, 7, 8, 4, 6, 7, 8, 11, 12, 13]"
      ]
     },
     "execution_count": 56,
     "metadata": {},
     "output_type": "execute_result"
    }
   ],
   "source": [
    "list_a.pop(2)\n",
    "list_a"
   ]
  },
  {
   "cell_type": "code",
   "execution_count": 57,
   "id": "bea6962a",
   "metadata": {},
   "outputs": [
    {
     "data": {
      "text/plain": [
       "[1, 2, 3, 11, 7, 8, 4, 6, 7, 8, 11, 12, 13]"
      ]
     },
     "execution_count": 57,
     "metadata": {},
     "output_type": "execute_result"
    }
   ],
   "source": [
    "del list_a[4:7]\n",
    "list_a"
   ]
  },
  {
   "cell_type": "markdown",
   "id": "d2d887f4",
   "metadata": {},
   "source": [
    " "
   ]
  },
  {
   "cell_type": "code",
   "execution_count": 58,
   "id": "6af6ac5a",
   "metadata": {},
   "outputs": [
    {
     "data": {
      "text/plain": [
       "True"
      ]
     },
     "execution_count": 58,
     "metadata": {},
     "output_type": "execute_result"
    }
   ],
   "source": [
    "mylist = [ 11, 22, 33, 44, 55 ]\n",
    "\n",
    "33 in mylist"
   ]
  },
  {
   "cell_type": "code",
   "execution_count": 59,
   "id": "29b0a4e6",
   "metadata": {},
   "outputs": [
    {
     "name": "stdout",
     "output_type": "stream",
     "text": [
      "데이타가 있음\n"
     ]
    }
   ],
   "source": [
    "if 33 in mylist:\n",
    "    print('데이타가 있음')"
   ]
  },
  {
   "cell_type": "code",
   "execution_count": 60,
   "id": "f9877588",
   "metadata": {},
   "outputs": [
    {
     "data": {
      "text/plain": [
       "[11, 22, 33, 66, 55]"
      ]
     },
     "execution_count": 60,
     "metadata": {},
     "output_type": "execute_result"
    }
   ],
   "source": [
    "mylist[3] = 66\n",
    "mylist"
   ]
  },
  {
   "cell_type": "code",
   "execution_count": 62,
   "id": "c1884dfc",
   "metadata": {},
   "outputs": [
    {
     "data": {
      "text/plain": [
       "[1, 2, 3, 4, 7, 8, 9]"
      ]
     },
     "execution_count": 62,
     "metadata": {},
     "output_type": "execute_result"
    }
   ],
   "source": [
    "### Sorting : 정렬\n",
    "'''\n",
    "    2 8 1 4 6 5\n",
    "    \n",
    "    1 2 4 5 6 8 -> 오름차순 정렬\n",
    "    8 6 5 4 2 1 -> 내림차순 정렬\n",
    "'''\n",
    "\n",
    "mylist = [ 1, 9, 2, 8, 3, 7, 4 ]\n",
    "mylist.sort()\n",
    "mylist"
   ]
  },
  {
   "cell_type": "code",
   "execution_count": 63,
   "id": "eab914ce",
   "metadata": {},
   "outputs": [
    {
     "data": {
      "text/plain": [
       "[9, 8, 7, 4, 3, 2, 1]"
      ]
     },
     "execution_count": 63,
     "metadata": {},
     "output_type": "execute_result"
    }
   ],
   "source": [
    "mylist.sort(reverse=True)\n",
    "mylist"
   ]
  },
  {
   "cell_type": "markdown",
   "id": "67ba5263",
   "metadata": {},
   "source": [
    " ### dictionary"
   ]
  },
  {
   "cell_type": "code",
   "execution_count": 67,
   "id": "59f08275",
   "metadata": {},
   "outputs": [
    {
     "data": {
      "text/plain": [
       "3"
      ]
     },
     "execution_count": 67,
     "metadata": {},
     "output_type": "execute_result"
    }
   ],
   "source": [
    "'''\n",
    "array, tuple, list -> 관리(접근)\n",
    " : index 0 ~ len-1 == 번호\n",
    "'''\n",
    "mylist = [1, 2, 3]\n",
    "\n",
    "mylist[0]\n",
    "len(mylist)"
   ]
  },
  {
   "cell_type": "code",
   "execution_count": null,
   "id": "debf1411",
   "metadata": {},
   "outputs": [],
   "source": [
    "'''\n",
    "    key:value\n",
    "    \n",
    "    list key -> index\n",
    "         value -> list[key]\n",
    "         \n",
    "    dictionary\n",
    "        key -> str\n",
    "        value -> object(class, list, tuple, str, int)\n",
    "'''"
   ]
  },
  {
   "cell_type": "code",
   "execution_count": 68,
   "id": "bca8555b",
   "metadata": {},
   "outputs": [
    {
     "data": {
      "text/plain": [
       "{'name': '과일', 'frults': ['사과', '배', '바나나'], 'origin': '필리핀'}"
      ]
     },
     "execution_count": 68,
     "metadata": {},
     "output_type": "execute_result"
    }
   ],
   "source": [
    "dic = {\n",
    "    \"name\":\"과일\",\n",
    "    \"frults\":[\"사과\", \"배\", \"바나나\"],\n",
    "    \"origin\":\"필리핀\"    \n",
    "}\n",
    "\n",
    "dic"
   ]
  },
  {
   "cell_type": "code",
   "execution_count": 69,
   "id": "88461cfd",
   "metadata": {},
   "outputs": [
    {
     "data": {
      "text/plain": [
       "dict_keys(['name', 'frults', 'origin'])"
      ]
     },
     "execution_count": 69,
     "metadata": {},
     "output_type": "execute_result"
    }
   ],
   "source": [
    "# 키값만을 출력\n",
    "dic.keys()"
   ]
  },
  {
   "cell_type": "code",
   "execution_count": 70,
   "id": "eea4f820",
   "metadata": {},
   "outputs": [
    {
     "data": {
      "text/plain": [
       "dict_values(['과일', ['사과', '배', '바나나'], '필리핀'])"
      ]
     },
     "execution_count": 70,
     "metadata": {},
     "output_type": "execute_result"
    }
   ],
   "source": [
    "dic.values()"
   ]
  },
  {
   "cell_type": "code",
   "execution_count": 71,
   "id": "a16df954",
   "metadata": {
    "scrolled": true
   },
   "outputs": [
    {
     "data": {
      "text/plain": [
       "dict_items([('name', '과일'), ('frults', ['사과', '배', '바나나']), ('origin', '필리핀')])"
      ]
     },
     "execution_count": 71,
     "metadata": {},
     "output_type": "execute_result"
    }
   ],
   "source": [
    "dic.items()"
   ]
  },
  {
   "cell_type": "code",
   "execution_count": 72,
   "id": "25a86290",
   "metadata": {},
   "outputs": [
    {
     "data": {
      "text/plain": [
       "'과일'"
      ]
     },
     "execution_count": 72,
     "metadata": {},
     "output_type": "execute_result"
    }
   ],
   "source": [
    "dic['name']"
   ]
  },
  {
   "cell_type": "code",
   "execution_count": 73,
   "id": "9ed07d31",
   "metadata": {},
   "outputs": [
    {
     "data": {
      "text/plain": [
       "['사과', '배', '바나나']"
      ]
     },
     "execution_count": 73,
     "metadata": {},
     "output_type": "execute_result"
    }
   ],
   "source": [
    "dic['frults']"
   ]
  },
  {
   "cell_type": "code",
   "execution_count": 74,
   "id": "dcd17aca",
   "metadata": {},
   "outputs": [
    {
     "data": {
      "text/plain": [
       "'배'"
      ]
     },
     "execution_count": 74,
     "metadata": {},
     "output_type": "execute_result"
    }
   ],
   "source": [
    "dic['frults'][1]"
   ]
  },
  {
   "cell_type": "code",
   "execution_count": 76,
   "id": "90f1319f",
   "metadata": {},
   "outputs": [
    {
     "data": {
      "text/plain": [
       "{'name': 'food', 'frults': ['사과', '배', '바나나'], 'origin': '필리핀'}"
      ]
     },
     "execution_count": 76,
     "metadata": {},
     "output_type": "execute_result"
    }
   ],
   "source": [
    "dic['name'] = \"food\"\n",
    "dic"
   ]
  },
  {
   "cell_type": "code",
   "execution_count": 77,
   "id": "4e1ace62",
   "metadata": {
    "scrolled": true
   },
   "outputs": [
    {
     "data": {
      "text/plain": [
       "['hi', 'good day']"
      ]
     },
     "execution_count": 77,
     "metadata": {},
     "output_type": "execute_result"
    }
   ],
   "source": [
    "mylist = [] # list 선언\n",
    "mylist.append(\"hi\")\n",
    "mylist.append(\"good day\")\n",
    "mylist"
   ]
  },
  {
   "cell_type": "code",
   "execution_count": 78,
   "id": "9f85cb2c",
   "metadata": {},
   "outputs": [
    {
     "data": {
      "text/plain": [
       "{'name': '로보트',\n",
       " 'head': '스킨헤드',\n",
       " 'body': '메탈바디',\n",
       " 'weapon': ['미사일', '광선검', '레이저']}"
      ]
     },
     "execution_count": 78,
     "metadata": {},
     "output_type": "execute_result"
    }
   ],
   "source": [
    "dic = {} # dictionary 선언\n",
    "\n",
    "dic[\"name\"] = \"로보트\"\n",
    "dic[\"head\"] = \"스킨헤드\"\n",
    "dic['body'] = \"메탈바디\"\n",
    "dic['weapon'] = [\"미사일\", \"광선검\", \"레이저\"]\n",
    "\n",
    "dic"
   ]
  },
  {
   "cell_type": "code",
   "execution_count": 79,
   "id": "7fc38722",
   "metadata": {},
   "outputs": [
    {
     "data": {
      "text/plain": [
       "{'name': '로보트', 'body': '메탈바디', 'weapon': ['미사일', '광선검', '레이저']}"
      ]
     },
     "execution_count": 79,
     "metadata": {},
     "output_type": "execute_result"
    }
   ],
   "source": [
    "del dic['head']\n",
    "dic"
   ]
  },
  {
   "cell_type": "code",
   "execution_count": 80,
   "id": "1d365b69",
   "metadata": {},
   "outputs": [
    {
     "name": "stdout",
     "output_type": "stream",
     "text": [
      "무기가 있습니다\n"
     ]
    }
   ],
   "source": [
    "if \"weapon\" in dic:\n",
    "    print('무기가 있습니다')"
   ]
  },
  {
   "cell_type": "code",
   "execution_count": 81,
   "id": "532fab52",
   "metadata": {},
   "outputs": [
    {
     "data": {
      "text/plain": [
       "'로보트'"
      ]
     },
     "execution_count": 81,
     "metadata": {},
     "output_type": "execute_result"
    }
   ],
   "source": [
    "value = dic.get(\"name\")\n",
    "value"
   ]
  },
  {
   "cell_type": "code",
   "execution_count": 83,
   "id": "90ebe592",
   "metadata": {
    "scrolled": true
   },
   "outputs": [
    {
     "name": "stdout",
     "output_type": "stream",
     "text": [
      "존재하지 않은 키값에 접근했습니다\n"
     ]
    }
   ],
   "source": [
    "value = dic.get(\"head\")\n",
    "if value == None:\n",
    "    print(\"존재하지 않은 키값에 접근했습니다\")"
   ]
  },
  {
   "cell_type": "code",
   "execution_count": 84,
   "id": "661f9105",
   "metadata": {},
   "outputs": [
    {
     "data": {
      "text/plain": [
       "'로보트'"
      ]
     },
     "execution_count": 84,
     "metadata": {},
     "output_type": "execute_result"
    }
   ],
   "source": [
    "dic['name']"
   ]
  },
  {
   "cell_type": "code",
   "execution_count": 85,
   "id": "0d288992",
   "metadata": {
    "scrolled": true
   },
   "outputs": [
    {
     "data": {
      "text/plain": [
       "'로보트'"
      ]
     },
     "execution_count": 85,
     "metadata": {},
     "output_type": "execute_result"
    }
   ],
   "source": [
    "dic.get('name')"
   ]
  },
  {
   "cell_type": "markdown",
   "id": "03e2dbcb",
   "metadata": {},
   "source": [
    "### range "
   ]
  },
  {
   "cell_type": "code",
   "execution_count": 86,
   "id": "185b99ac",
   "metadata": {
    "scrolled": true
   },
   "outputs": [
    {
     "data": {
      "text/plain": [
       "range(0, 5)"
      ]
     },
     "execution_count": 86,
     "metadata": {},
     "output_type": "execute_result"
    }
   ],
   "source": [
    "range(5)"
   ]
  },
  {
   "cell_type": "code",
   "execution_count": 88,
   "id": "dfd458ec",
   "metadata": {},
   "outputs": [
    {
     "data": {
      "text/plain": [
       "[0, 1, 2, 3, 4]"
      ]
     },
     "execution_count": 88,
     "metadata": {},
     "output_type": "execute_result"
    }
   ],
   "source": [
    "mylist = list(range(5))\n",
    "mylist"
   ]
  },
  {
   "cell_type": "code",
   "execution_count": 89,
   "id": "a4f50346",
   "metadata": {},
   "outputs": [
    {
     "data": {
      "text/plain": [
       "[0, 1, 2, 3, 4]"
      ]
     },
     "execution_count": 89,
     "metadata": {},
     "output_type": "execute_result"
    }
   ],
   "source": [
    "list(range(0, 5))"
   ]
  },
  {
   "cell_type": "code",
   "execution_count": 90,
   "id": "b3def4cb",
   "metadata": {
    "scrolled": true
   },
   "outputs": [
    {
     "data": {
      "text/plain": [
       "[5, 6, 7, 8, 9]"
      ]
     },
     "execution_count": 90,
     "metadata": {},
     "output_type": "execute_result"
    }
   ],
   "source": [
    "list(range(5, 10))"
   ]
  },
  {
   "cell_type": "code",
   "execution_count": 93,
   "id": "25b064fa",
   "metadata": {},
   "outputs": [
    {
     "data": {
      "text/plain": [
       "[0, 2, 4, 6, 8]"
      ]
     },
     "execution_count": 93,
     "metadata": {},
     "output_type": "execute_result"
    }
   ],
   "source": [
    "list(range(0, 10, 2))"
   ]
  },
  {
   "cell_type": "code",
   "execution_count": 94,
   "id": "2ffc0019",
   "metadata": {},
   "outputs": [
    {
     "data": {
      "text/plain": [
       "[0, 3, 6, 9]"
      ]
     },
     "execution_count": 94,
     "metadata": {},
     "output_type": "execute_result"
    }
   ],
   "source": [
    "list(range(0, 10, 3))"
   ]
  },
  {
   "cell_type": "markdown",
   "id": "e43f6064",
   "metadata": {},
   "source": [
    "### for"
   ]
  },
  {
   "cell_type": "code",
   "execution_count": 95,
   "id": "722211e6",
   "metadata": {},
   "outputs": [
    {
     "name": "stdout",
     "output_type": "stream",
     "text": [
      "0\n",
      "1\n",
      "2\n",
      "3\n",
      "4\n",
      "5\n",
      "6\n",
      "7\n",
      "8\n",
      "9\n"
     ]
    }
   ],
   "source": [
    "# for foreach\n",
    "for i in range(10):\n",
    "    print(i)"
   ]
  },
  {
   "cell_type": "code",
   "execution_count": 96,
   "id": "0e229fe6",
   "metadata": {},
   "outputs": [
    {
     "data": {
      "text/plain": [
       "55"
      ]
     },
     "execution_count": 96,
     "metadata": {},
     "output_type": "execute_result"
    }
   ],
   "source": [
    "_sum = 0\n",
    "for i in range(1, 11):\n",
    "    _sum += i\n",
    "\n",
    "_sum"
   ]
  },
  {
   "cell_type": "code",
   "execution_count": 97,
   "id": "ab4a92bb",
   "metadata": {},
   "outputs": [
    {
     "name": "stdout",
     "output_type": "stream",
     "text": [
      "one\n",
      "two\n",
      "three\n",
      "four\n",
      "five\n"
     ]
    }
   ],
   "source": [
    "mylist = ['one', 'two', 'three', 'four', 'five']\n",
    "for a in mylist:\n",
    "    print( a ) "
   ]
  },
  {
   "cell_type": "code",
   "execution_count": 98,
   "id": "daa7bfa2",
   "metadata": {},
   "outputs": [
    {
     "name": "stdout",
     "output_type": "stream",
     "text": [
      "0\n",
      "2\n",
      "4\n",
      "6\n",
      "8\n"
     ]
    }
   ],
   "source": [
    "for i in range(0, 10, 2):\n",
    "    print(i)"
   ]
  },
  {
   "cell_type": "code",
   "execution_count": 100,
   "id": "3fc609c6",
   "metadata": {},
   "outputs": [
    {
     "name": "stdout",
     "output_type": "stream",
     "text": [
      "11\n",
      "22\n",
      "33\n",
      "44\n",
      "55\n"
     ]
    }
   ],
   "source": [
    "mylist = [ 11, 22, 33, 44, 55 ]\n",
    "for i in range(len(mylist)):\n",
    "    print(mylist[i])"
   ]
  },
  {
   "cell_type": "code",
   "execution_count": 104,
   "id": "a315944d",
   "metadata": {},
   "outputs": [
    {
     "name": "stdout",
     "output_type": "stream",
     "text": [
      "4 55\n",
      "3 44\n",
      "2 33\n",
      "1 22\n",
      "0 11\n"
     ]
    }
   ],
   "source": [
    "for i in reversed(range(len(mylist))):\n",
    "    print(i, mylist[i])"
   ]
  },
  {
   "cell_type": "code",
   "execution_count": 105,
   "id": "5eedf3e3",
   "metadata": {},
   "outputs": [
    {
     "name": "stdout",
     "output_type": "stream",
     "text": [
      "0 apple\n",
      "1 pear\n",
      "2 banana\n"
     ]
    }
   ],
   "source": [
    "### enumerate\n",
    "frults = [\"apple\", \"pear\", \"banana\"]\n",
    "# index, value\n",
    "for i, val in enumerate(frults):\n",
    "    print(i, val)\n"
   ]
  },
  {
   "cell_type": "code",
   "execution_count": 106,
   "id": "0cd9e6f3",
   "metadata": {},
   "outputs": [
    {
     "data": {
      "text/plain": [
       "{'name': '로보트', 'body': '메탈바디', 'weapon': ['미사일', '광선검', '레이저']}"
      ]
     },
     "execution_count": 106,
     "metadata": {},
     "output_type": "execute_result"
    }
   ],
   "source": [
    "dic"
   ]
  },
  {
   "cell_type": "code",
   "execution_count": 108,
   "id": "e811fcb8",
   "metadata": {},
   "outputs": [
    {
     "name": "stdout",
     "output_type": "stream",
     "text": [
      "name : 로보트\n",
      "body : 메탈바디\n",
      "weapon : ['미사일', '광선검', '레이저']\n"
     ]
    }
   ],
   "source": [
    "for key in dic:\n",
    "    print(key, \":\", dic[key])"
   ]
  },
  {
   "cell_type": "code",
   "execution_count": 111,
   "id": "0b9beb42",
   "metadata": {
    "scrolled": false
   },
   "outputs": [
    {
     "name": "stdout",
     "output_type": "stream",
     "text": [
      "0 name 로보트\n",
      "1 body 메탈바디\n",
      "2 weapon ['미사일', '광선검', '레이저']\n"
     ]
    }
   ],
   "source": [
    "for i, key in enumerate(dic):\n",
    "    print(i, key, dic[key])"
   ]
  },
  {
   "cell_type": "code",
   "execution_count": 113,
   "id": "9fe87e5b",
   "metadata": {},
   "outputs": [
    {
     "name": "stdout",
     "output_type": "stream",
     "text": [
      "apple\n"
     ]
    }
   ],
   "source": [
    "for i in frults:\n",
    "    if i == 'apple':\n",
    "        print(i)"
   ]
  },
  {
   "cell_type": "code",
   "execution_count": 114,
   "id": "9ab28f05",
   "metadata": {},
   "outputs": [
    {
     "name": "stdout",
     "output_type": "stream",
     "text": [
      "홀수의 합: 2500\n",
      "짝수의 합: 2550\n"
     ]
    }
   ],
   "source": [
    "# 1 ~ 100 사이의 숫자안에 짝수, 홀수의 합을 각각 구하라\n",
    "sum1 = 0\n",
    "sum2 = 0\n",
    "for i in range(1, 101):\n",
    "    if i % 2 == 0:\n",
    "        sum2 += i\n",
    "    else:\n",
    "        sum1 += i\n",
    "        \n",
    "print('홀수의 합:', sum1)\n",
    "print('짝수의 합:', sum2)"
   ]
  },
  {
   "cell_type": "markdown",
   "id": "683153aa",
   "metadata": {},
   "source": [
    "### while"
   ]
  },
  {
   "cell_type": "code",
   "execution_count": 117,
   "id": "c66d488d",
   "metadata": {},
   "outputs": [
    {
     "name": "stdout",
     "output_type": "stream",
     "text": [
      "0\n",
      "1\n",
      "2\n",
      "3\n",
      "4\n",
      "5\n",
      "6\n",
      "7\n",
      "8\n",
      "9\n"
     ]
    }
   ],
   "source": [
    "'''\n",
    "    for 변수 in (배열, 범위):\n",
    "        처리\n",
    "        \n",
    "    변수선언\n",
    "    while 조건:  -> 조건이 True면 계속 loop된다\n",
    "        처리\n",
    "        연산\n",
    "'''\n",
    "\n",
    "w = 0\n",
    "while w < 10:\n",
    "    print(w)\n",
    "    w += 1"
   ]
  },
  {
   "cell_type": "code",
   "execution_count": 124,
   "id": "2f4af8df",
   "metadata": {},
   "outputs": [
    {
     "data": {
      "text/plain": [
       "[11, 22, 33, 22, 44]"
      ]
     },
     "execution_count": 124,
     "metadata": {},
     "output_type": "execute_result"
    }
   ],
   "source": [
    "mylist = [ 11, 22, 33, 22, 44 ]\n",
    "mylist"
   ]
  },
  {
   "cell_type": "code",
   "execution_count": 125,
   "id": "0832f570",
   "metadata": {},
   "outputs": [
    {
     "data": {
      "text/plain": [
       "[11, 33, 44]"
      ]
     },
     "execution_count": 125,
     "metadata": {},
     "output_type": "execute_result"
    }
   ],
   "source": [
    "val = 22\n",
    "while val in mylist:\n",
    "    mylist.remove(val)\n",
    "    \n",
    "mylist"
   ]
  },
  {
   "cell_type": "code",
   "execution_count": 126,
   "id": "4d7d28ff",
   "metadata": {},
   "outputs": [
    {
     "name": "stdout",
     "output_type": "stream",
     "text": [
      "1\n",
      "2\n",
      "3\n",
      "4\n"
     ]
    }
   ],
   "source": [
    "### break : loop문과 같이 사용. for, while\n",
    "mylist = [ 1, 2, 3, 4, -2, 6, -4 ]\n",
    "for n in mylist:\n",
    "    if n < 0:\n",
    "        break\n",
    "    print(n)"
   ]
  },
  {
   "cell_type": "code",
   "execution_count": 127,
   "id": "a9b2d67e",
   "metadata": {},
   "outputs": [
    {
     "name": "stdout",
     "output_type": "stream",
     "text": [
      "1\n",
      "2\n",
      "3\n",
      "4\n",
      "6\n"
     ]
    }
   ],
   "source": [
    "### continue : skip 처리\n",
    "for n in mylist:\n",
    "    if n < 0:\n",
    "        continue\n",
    "    print(n)"
   ]
  },
  {
   "cell_type": "code",
   "execution_count": 129,
   "id": "7ad4e5dc",
   "metadata": {},
   "outputs": [
    {
     "name": "stdout",
     "output_type": "stream",
     "text": [
      "숫자입력 > 3\n",
      "숫자입력 > 4\n",
      "숫자입력 > 5\n",
      "숫자입력 > -1\n",
      "다시 입력해 주십시오\n",
      "숫자입력 > 8\n",
      "숫자입력 > -5\n",
      "다시 입력해 주십시오\n",
      "숫자입력 > 0\n",
      "다시 입력해 주십시오\n",
      "숫자입력 > 11\n"
     ]
    },
    {
     "data": {
      "text/plain": [
       "[3, 4, 5, 8, 11]"
      ]
     },
     "execution_count": 129,
     "metadata": {},
     "output_type": "execute_result"
    }
   ],
   "source": [
    "myNumber = [] # -> 5개 : 양수만 입력해야 된다\n",
    "w = 0\n",
    "while w < 5:\n",
    "    num = int(input(\"숫자입력 > \"))\n",
    "    if num <= 0:\n",
    "        print('다시 입력해 주십시오')\n",
    "        continue\n",
    "        \n",
    "    myNumber.append(num)\n",
    "    w += 1\n",
    "\n",
    "myNumber"
   ]
  },
  {
   "cell_type": "code",
   "execution_count": null,
   "id": "21fc17cf",
   "metadata": {},
   "outputs": [],
   "source": []
  }
 ],
 "metadata": {
  "kernelspec": {
   "display_name": "Python 3 (ipykernel)",
   "language": "python",
   "name": "python3"
  },
  "language_info": {
   "codemirror_mode": {
    "name": "ipython",
    "version": 3
   },
   "file_extension": ".py",
   "mimetype": "text/x-python",
   "name": "python",
   "nbconvert_exporter": "python",
   "pygments_lexer": "ipython3",
   "version": "3.9.12"
  }
 },
 "nbformat": 4,
 "nbformat_minor": 5
}
