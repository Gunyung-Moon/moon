{
 "cells": [
  {
   "cell_type": "code",
   "execution_count": null,
   "id": "03c03488",
   "metadata": {},
   "outputs": [],
   "source": [
    "# 2,4,6,8,10 값을 각각 제곱 한 값을 출력하라"
   ]
  },
  {
   "cell_type": "code",
   "execution_count": 1,
   "id": "8bfa7963",
   "metadata": {},
   "outputs": [
    {
     "name": "stdout",
     "output_type": "stream",
     "text": [
      "4\n",
      "16\n",
      "36\n",
      "64\n",
      "100\n"
     ]
    },
    {
     "data": {
      "text/plain": [
       "[4, 16, 36, 64, 100]"
      ]
     },
     "execution_count": 1,
     "metadata": {},
     "output_type": "execute_result"
    }
   ],
   "source": [
    "doubleList = []\n",
    "for n in range(2, 12, 2):\n",
    "    print(n**2)\n",
    "    doubleList.append(n**2)\n",
    "    \n",
    "doubleList"
   ]
  },
  {
   "cell_type": "code",
   "execution_count": null,
   "id": "751452d1",
   "metadata": {},
   "outputs": [],
   "source": [
    "# while 문을 이용하여 10에서 50까지의 짝수만 출력하라"
   ]
  },
  {
   "cell_type": "code",
   "execution_count": 2,
   "id": "b4eabb85",
   "metadata": {},
   "outputs": [
    {
     "name": "stdout",
     "output_type": "stream",
     "text": [
      "10\n",
      "12\n",
      "14\n",
      "16\n",
      "18\n",
      "20\n",
      "22\n",
      "24\n",
      "26\n",
      "28\n",
      "30\n",
      "32\n",
      "34\n",
      "36\n",
      "38\n",
      "40\n",
      "42\n",
      "44\n",
      "46\n",
      "48\n",
      "50\n"
     ]
    }
   ],
   "source": [
    "num = 10\n",
    "while num <= 50:\n",
    "    print(num)\n",
    "    num += 2"
   ]
  },
  {
   "cell_type": "code",
   "execution_count": null,
   "id": "320c8514",
   "metadata": {},
   "outputs": [],
   "source": [
    "# 0-9의 값을 for 문을 사용하여 하나씩 표시. 그러나 7이되면 루프를 종료"
   ]
  },
  {
   "cell_type": "code",
   "execution_count": 3,
   "id": "9ce7c3ee",
   "metadata": {},
   "outputs": [
    {
     "name": "stdout",
     "output_type": "stream",
     "text": [
      "0\n",
      "1\n",
      "2\n",
      "3\n",
      "4\n",
      "5\n",
      "6\n"
     ]
    }
   ],
   "source": [
    "for i in range(10):\n",
    "    if i == 7:\n",
    "        break;\n",
    "    print(i)"
   ]
  },
  {
   "cell_type": "code",
   "execution_count": null,
   "id": "b6b94269",
   "metadata": {},
   "outputs": [],
   "source": [
    "# 0-9의 값을 하나씩 표시하라. 그러나 4의 경우는 표시하지 않는다. (continue를 사용)"
   ]
  },
  {
   "cell_type": "code",
   "execution_count": 4,
   "id": "c80328b6",
   "metadata": {},
   "outputs": [
    {
     "name": "stdout",
     "output_type": "stream",
     "text": [
      "0\n",
      "1\n",
      "2\n",
      "3\n",
      "5\n",
      "6\n",
      "7\n",
      "8\n",
      "9\n"
     ]
    }
   ],
   "source": [
    "for i in range(10):\n",
    "    if i == 4:\n",
    "        continue\n",
    "    print(i)"
   ]
  },
  {
   "cell_type": "code",
   "execution_count": 7,
   "id": "4b405206",
   "metadata": {},
   "outputs": [
    {
     "name": "stdout",
     "output_type": "stream",
     "text": [
      "0\n",
      "1\n",
      "2\n",
      "3\n",
      "4\n",
      "5\n",
      "6\n",
      "7\n",
      "8\n",
      "9\n"
     ]
    }
   ],
   "source": [
    "for i in range(10):\n",
    "    if i == 4:\n",
    "        pass\n",
    "    print(i)"
   ]
  },
  {
   "cell_type": "code",
   "execution_count": null,
   "id": "4308799e",
   "metadata": {},
   "outputs": [],
   "source": [
    "# pass를 사용하여 0 ~ 9의 값을 하나씩 표시하라. 그러나 4의 경우는 표시하지 않는다 (pass를 사용)"
   ]
  },
  {
   "cell_type": "code",
   "execution_count": 8,
   "id": "fb602544",
   "metadata": {
    "scrolled": true
   },
   "outputs": [
    {
     "name": "stdout",
     "output_type": "stream",
     "text": [
      "0\n",
      "1\n",
      "2\n",
      "3\n",
      "5\n",
      "6\n",
      "7\n",
      "8\n",
      "9\n"
     ]
    }
   ],
   "source": [
    "for i in range(10):\n",
    "    if i == 4:\n",
    "        pass\n",
    "    else:\n",
    "        print(i)"
   ]
  },
  {
   "cell_type": "code",
   "execution_count": null,
   "id": "afb12200",
   "metadata": {},
   "outputs": [],
   "source": [
    "# 1 ~ 10까지 목록에 저장하고 각각의 값을 제곱 한 값을 출력하라"
   ]
  },
  {
   "cell_type": "code",
   "execution_count": 11,
   "id": "f93a3e78",
   "metadata": {},
   "outputs": [
    {
     "name": "stdout",
     "output_type": "stream",
     "text": [
      "1\n",
      "4\n",
      "9\n",
      "16\n",
      "25\n",
      "36\n",
      "49\n",
      "64\n",
      "81\n",
      "100\n"
     ]
    }
   ],
   "source": [
    "my_list = list(range(1, 11))\n",
    "my_list\n",
    "for i in my_list:\n",
    "    print(i**2)"
   ]
  },
  {
   "cell_type": "code",
   "execution_count": null,
   "id": "c7bed5ca",
   "metadata": {},
   "outputs": [],
   "source": [
    "'''\n",
    "다음 dictionary 객체를 사용하여 각각의 key와 value를 가져오고 \n",
    "value가 20 이상인 경우 {key의 내용} : hot을 출력한다. \n",
    "그 외의 경우 {key의 내용} : cold 출력하라\n",
    "temperatures = { 'x': 24, 'y': 18, 'z': 30 }\n",
    "'''"
   ]
  },
  {
   "cell_type": "code",
   "execution_count": 17,
   "id": "5893a9d3",
   "metadata": {},
   "outputs": [
    {
     "name": "stdout",
     "output_type": "stream",
     "text": [
      "x : hot\n",
      "y : cold\n",
      "z : hot\n"
     ]
    }
   ],
   "source": [
    "temperatures = { 'x': 24, 'y': 18, 'z': 30 }\n",
    "for key, value in temperatures.items():\n",
    "   # print(key, value)\n",
    "    if value >= 20:\n",
    "        print(key, \": hot\")\n",
    "    else:\n",
    "        print(key, \": cold\")"
   ]
  },
  {
   "cell_type": "code",
   "execution_count": 18,
   "id": "44402821",
   "metadata": {},
   "outputs": [
    {
     "name": "stdout",
     "output_type": "stream",
     "text": [
      "x : hot\n",
      "y : cold\n",
      "z : hot\n"
     ]
    }
   ],
   "source": [
    "temperatures = { 'x': 24, 'y': 18, 'z': 30 }\n",
    "for i, key in enumerate(temperatures):\n",
    "    # print(i, key, temperatures[key])\n",
    "    if temperatures[key] >= 20:\n",
    "        print(key, \": hot\")\n",
    "    else:\n",
    "        print(key, \": cold\")"
   ]
  },
  {
   "cell_type": "code",
   "execution_count": null,
   "id": "dc13af08",
   "metadata": {},
   "outputs": [],
   "source": [
    "# (1,2,3)의 튜플의 값을 x, y, z 변수에 각각 저장하라."
   ]
  },
  {
   "cell_type": "code",
   "execution_count": null,
   "id": "9a0edfcb",
   "metadata": {},
   "outputs": [],
   "source": [
    "x = 1\n",
    "y = 2\n",
    "z = 3\n",
    "x, y, z = (1, 2, 3)"
   ]
  },
  {
   "cell_type": "code",
   "execution_count": null,
   "id": "aaa0ff10",
   "metadata": {},
   "outputs": [],
   "source": [
    "'''\n",
    "목록 (결합)\n",
    "변수 li1에 [1,2,3]목록을 대입 변수 li2에 [4,5]목록을 할당하고 두 목록을 결합하여 출력합니다.\n",
    "\n",
    "출력 :[1,2,3,4,5]\n",
    "'''"
   ]
  },
  {
   "cell_type": "code",
   "execution_count": 19,
   "id": "904aa01f",
   "metadata": {},
   "outputs": [
    {
     "data": {
      "text/plain": [
       "[1, 2, 3, 4, 5]"
      ]
     },
     "execution_count": 19,
     "metadata": {},
     "output_type": "execute_result"
    }
   ],
   "source": [
    "li1 = [1,2,3]\n",
    "li2 = [4,5]\n",
    "\n",
    "li3 = li1 + li2\n",
    "li3"
   ]
  },
  {
   "cell_type": "code",
   "execution_count": null,
   "id": "57ec6ccd",
   "metadata": {},
   "outputs": [],
   "source": [
    "'''\n",
    "목록 (추가)\n",
    "변수 목록 [1,2,3,4,5]을 할당하고이 목록의 끝 으로 6, 7하나씩 차례로 추가하십시오. 그 후, 최종 목록을 출력합니다.\n",
    "\n",
    "출력 :[1,2,3,4,5,6,7]\n",
    "'''"
   ]
  },
  {
   "cell_type": "code",
   "execution_count": 20,
   "id": "8659f150",
   "metadata": {},
   "outputs": [
    {
     "data": {
      "text/plain": [
       "[1, 2, 3, 4, 5, 6, 7]"
      ]
     },
     "execution_count": 20,
     "metadata": {},
     "output_type": "execute_result"
    }
   ],
   "source": [
    "li = [1,2,3,4,5]\n",
    "li.append(6)\n",
    "li.append(7)\n",
    "li"
   ]
  },
  {
   "cell_type": "code",
   "execution_count": null,
   "id": "51fb4613",
   "metadata": {},
   "outputs": [],
   "source": [
    "'''\n",
    "목록 (insert)\n",
    "변수 목록 [1,2,3,4,5]을 만들고 0 번째와 1 번째 사이에 100 을 삽입하십시오.\n",
    "\n",
    "출력 :[1,100,2,3,4,5]\n",
    "'''"
   ]
  },
  {
   "cell_type": "code",
   "execution_count": 21,
   "id": "c720bd26",
   "metadata": {},
   "outputs": [
    {
     "data": {
      "text/plain": [
       "[1, 100, 2, 3, 4, 5]"
      ]
     },
     "execution_count": 21,
     "metadata": {},
     "output_type": "execute_result"
    }
   ],
   "source": [
    "li = [1,2,3,4,5]\n",
    "li.insert(1, 100)\n",
    "li"
   ]
  },
  {
   "cell_type": "code",
   "execution_count": null,
   "id": "2a192e4e",
   "metadata": {},
   "outputs": [],
   "source": [
    "'''\n",
    "정렬\n",
    "변수 목록 [5,3,1,4,2]을 저장하고 오름차순으로 정렬 된 목록을 출력합니다.\n",
    "\n",
    "출력 :[1,2,3,4,5]\n",
    "'''"
   ]
  },
  {
   "cell_type": "code",
   "execution_count": 22,
   "id": "2b63e49a",
   "metadata": {},
   "outputs": [
    {
     "data": {
      "text/plain": [
       "[1, 2, 3, 4, 5]"
      ]
     },
     "execution_count": 22,
     "metadata": {},
     "output_type": "execute_result"
    }
   ],
   "source": [
    "li = [5,3,1,4,2]\n",
    "sort_li = sorted(li)\n",
    "sort_li"
   ]
  },
  {
   "cell_type": "code",
   "execution_count": 24,
   "id": "7c3dc40b",
   "metadata": {},
   "outputs": [
    {
     "data": {
      "text/plain": [
       "[5, 4, 3, 2, 1]"
      ]
     },
     "execution_count": 24,
     "metadata": {},
     "output_type": "execute_result"
    }
   ],
   "source": [
    "rsort_li = sorted(li, reverse=True)\n",
    "rsort_li"
   ]
  },
  {
   "cell_type": "code",
   "execution_count": null,
   "id": "d0a40de6",
   "metadata": {},
   "outputs": [],
   "source": [
    "'''\n",
    "목록 (for 의한 조사)\n",
    "변수에 [1,2,3,4,5] 5 개의 요소를 가진 리스트를 포함하여 짝수의 요소만을 출력합니다.\n",
    "\n",
    "출력: 2 4\n",
    "'''"
   ]
  },
  {
   "cell_type": "code",
   "execution_count": 25,
   "id": "d8a3e58f",
   "metadata": {},
   "outputs": [
    {
     "name": "stdout",
     "output_type": "stream",
     "text": [
      "2\n",
      "4\n"
     ]
    }
   ],
   "source": [
    "li = [1,2,3,4,5]\n",
    "for n in li:\n",
    "    if n % 2 == 0:\n",
    "        print(n)"
   ]
  },
  {
   "cell_type": "code",
   "execution_count": null,
   "id": "3c2ea7dc",
   "metadata": {},
   "outputs": [],
   "source": [
    "'''\n",
    "목록 (enumerate)\n",
    "변수에 [1,2,3,4,5] 5 개의 요소를 가진리스트를 포함하여 짝수가 들어 있는 요소의 index만을 출력합니다. \n",
    "\n",
    "예상 출력 :1 3\n",
    "'''"
   ]
  },
  {
   "cell_type": "code",
   "execution_count": 26,
   "id": "aa386814",
   "metadata": {},
   "outputs": [
    {
     "name": "stdout",
     "output_type": "stream",
     "text": [
      "1\n",
      "3\n"
     ]
    }
   ],
   "source": [
    "li = [1,2,3,4,5]\n",
    "for idx, val in enumerate(li):\n",
    "    if val % 2 == 0:\n",
    "        print(idx)"
   ]
  },
  {
   "cell_type": "code",
   "execution_count": null,
   "id": "b239fcb8",
   "metadata": {},
   "outputs": [],
   "source": [
    "'''\n",
    "사전 (values)\n",
    "변수에 값 쌍으로 {'A':1, 'B':2, 'C':3, 'D':4, 'E':5}를 가진 사전을 포함하여 \n",
    "키를 요소로 하는 리스트와 값을 요소로 하는 리스트를 작성하고 출력하십시오.\n",
    "\n",
    "['A', 'B', 'C', 'D', 'E']\n",
    "[1, 2, 3, 4, 5]\n",
    "'''"
   ]
  },
  {
   "cell_type": "code",
   "execution_count": 29,
   "id": "1cec73a6",
   "metadata": {},
   "outputs": [
    {
     "data": {
      "text/plain": [
       "[1, 2, 3, 4, 5]"
      ]
     },
     "execution_count": 29,
     "metadata": {},
     "output_type": "execute_result"
    }
   ],
   "source": [
    "dic = {'A':1, 'B':2, 'C':3, 'D':4, 'E':5}\n",
    "\n",
    "key_list = list(dic.keys())\n",
    "key_list\n",
    "val_list = list(dic.values())\n",
    "val_list"
   ]
  },
  {
   "cell_type": "code",
   "execution_count": null,
   "id": "833c62d2",
   "metadata": {},
   "outputs": [],
   "source": [
    "'''\n",
    "변수에 값 쌍으로 {'A':1, 'B':2, 'C':3, 'D':4, 'E':5}를 가진 사전을 포함하여 \n",
    "키와 값 (가치)의 조합 튜플을 요소로 하는 리스트를 작성하고 출력하십시오.\n",
    "\n",
    "출력 :[('A', 1), ('B', 2), ('C', 3), ('D', 4), ('E', 5)]\n",
    "'''"
   ]
  },
  {
   "cell_type": "code",
   "execution_count": 34,
   "id": "3080e73a",
   "metadata": {},
   "outputs": [
    {
     "data": {
      "text/plain": [
       "[('A', 1), ('B', 2), ('C', 3), ('D', 4), ('E', 5)]"
      ]
     },
     "execution_count": 34,
     "metadata": {},
     "output_type": "execute_result"
    }
   ],
   "source": [
    "dic = {'A':1, 'B':2, 'C':3, 'D':4, 'E':5}\n",
    "mylist = list(dic.items())\n",
    "\n",
    "mylist"
   ]
  }
 ],
 "metadata": {
  "kernelspec": {
   "display_name": "Python 3 (ipykernel)",
   "language": "python",
   "name": "python3"
  },
  "language_info": {
   "codemirror_mode": {
    "name": "ipython",
    "version": 3
   },
   "file_extension": ".py",
   "mimetype": "text/x-python",
   "name": "python",
   "nbconvert_exporter": "python",
   "pygments_lexer": "ipython3",
   "version": "3.9.12"
  }
 },
 "nbformat": 4,
 "nbformat_minor": 5
}
