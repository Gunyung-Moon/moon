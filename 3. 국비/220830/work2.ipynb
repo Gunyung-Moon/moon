{
 "cells": [
  {
   "cell_type": "markdown",
   "id": "64e2d81f",
   "metadata": {},
   "source": [
    "BMI (Body Mass Index)\n",
    "1.건강을 위해 비만도를 체크하여 봅시다. \n",
    "신장과 체중을 입력하고 당신의 비만도 (BMI = 체중 (kg) ÷ 신장 (m)의 제곱)을 계산하는 프로그램을 작성하고 계산 결과를 확인하십시오.\n",
    "\n",
    "판정 기준 \n",
    "\t18.5 미만 → 마른, \n",
    "\t18.5 ~ 25 미만 → 표준 \n",
    "\t25-30 미만 → 비만 \n",
    "\t30 이상 → 고도 비만\n",
    "으로 판정합니다.\n",
    "\n",
    "키를 cm 단위로 입력하십시오> 170\n",
    "체중을 kg 단위로 입력하십시오> 65\n",
    "\n",
    "BMI = 22.49134948096886\n",
    "당신은 \"표준\"입니다."
   ]
  },
  {
   "cell_type": "code",
   "execution_count": 2,
   "id": "ebe2553a",
   "metadata": {},
   "outputs": [
    {
     "name": "stdout",
     "output_type": "stream",
     "text": [
      "키를 cm 단위로 입력하십시오 > 175\n",
      "체중을 kg 단위로 입력하십시오 > 78\n"
     ]
    },
    {
     "data": {
      "text/plain": [
       "'당신은 비만 체형입니다'"
      ]
     },
     "execution_count": 2,
     "metadata": {},
     "output_type": "execute_result"
    }
   ],
   "source": [
    "height = float(input(\"키를 cm 단위로 입력하십시오 > \"))\n",
    "weight = float(input(\"체중을 kg 단위로 입력하십시오 > \"))\n",
    "\n",
    "height = height / 100  # cm -> m 로 변경\n",
    "\n",
    "bmi = weight / height**2\n",
    "# bmi\n",
    "\n",
    "message = ''\n",
    "if bmi < 18.5:\n",
    "    message = '당신은 너무 마른 체형입니다'\n",
    "elif 18.5 <= bmi < 25.0:\n",
    "    message = '당신은 표준 체형입니다'\n",
    "elif 25.0 <= bmi < 30.0:\n",
    "    message = '당신은 비만 체형입니다'\n",
    "else:\n",
    "    message = '당신은 고도 비만 체형입니다'\n",
    "    \n",
    "message"
   ]
  },
  {
   "cell_type": "markdown",
   "id": "975e336e",
   "metadata": {},
   "source": [
    " "
   ]
  },
  {
   "cell_type": "markdown",
   "id": "627a973f",
   "metadata": {},
   "source": [
    "윤년의 판정\n",
    "2.윤년이라는 것은 4 년에 한 번, 2월 29일까지 있는 연도입니다. \n",
    "첫번째 조건으로 연도를 400으로 나눈 나머지가 0일 경우, 윤년입니다.\n",
    "두번째 조건으로 연도를 100으로 나눈 나머지가 0이면, 윤년이 아닙니다.        예) 123\n",
    "세번째 조건으로 연도를 4로 나눈 나머지가 0이면 윤년입니다.\n",
    "\n",
    "이 규칙에 따라 서기 연도를 입력하고 윤년을 확인할 수있는 프로그램을 작성합니다.\n",
    "서기 연도를 입력하십시오> 1996\n",
    "1996 년은 윤년입니다."
   ]
  },
  {
   "cell_type": "code",
   "execution_count": 2,
   "id": "13581137",
   "metadata": {},
   "outputs": [
    {
     "name": "stdout",
     "output_type": "stream",
     "text": [
      "연도를 입력 > 2024\n",
      "윤년입니다\n"
     ]
    }
   ],
   "source": [
    "year = int(input('연도를 입력 > '))\n",
    "\n",
    "leap = False\n",
    "if year % 400 == 0:\n",
    "    leap = True\n",
    "elif year % 100 == 0:\n",
    "    leap = False\n",
    "elif year % 4 == 0:\n",
    "    leap = True\n",
    "    \n",
    "if leap == True:\n",
    "    print(\"윤년입니다\")\n",
    "else:\n",
    "    print(\"윤년이 아닙니다\")"
   ]
  },
  {
   "cell_type": "code",
   "execution_count": null,
   "id": "59e031d8",
   "metadata": {},
   "outputs": [],
   "source": []
  }
 ],
 "metadata": {
  "kernelspec": {
   "display_name": "Python 3 (ipykernel)",
   "language": "python",
   "name": "python3"
  },
  "language_info": {
   "codemirror_mode": {
    "name": "ipython",
    "version": 3
   },
   "file_extension": ".py",
   "mimetype": "text/x-python",
   "name": "python",
   "nbconvert_exporter": "python",
   "pygments_lexer": "ipython3",
   "version": "3.9.12"
  }
 },
 "nbformat": 4,
 "nbformat_minor": 5
}
