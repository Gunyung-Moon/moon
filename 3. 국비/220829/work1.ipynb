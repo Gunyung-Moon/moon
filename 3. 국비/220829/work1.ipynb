{
 "cells": [
  {
   "cell_type": "code",
   "execution_count": 1,
   "id": "7925fba2",
   "metadata": {},
   "outputs": [],
   "source": [
    "'''\n",
    "1.정수 5와 정수, 2 두 수의 계산을 수행 프로그램을 쓰십시오. \n",
    "계산은 덧셈, 뺄셈, 곱셈, 나눗셈의 몫과 나머지 실수 나눗셈의 \n",
    "5 가지 답으로 나오게하십시오.\n",
    "5 ＋ 2 = 7\n",
    "5 − 2 = 3\n",
    "5 × 2 = 10\n",
    "5 ÷ 2 = 2 나머지 1      \n",
    "5 ÷ 2 = 2.5\n",
    "'''\n",
    "# 초기화, 값을 설정\n",
    "a = 5\n",
    "b = 2"
   ]
  },
  {
   "cell_type": "code",
   "execution_count": 2,
   "id": "54372fcb",
   "metadata": {},
   "outputs": [],
   "source": [
    "# 연산\n",
    "pl = a + b\n",
    "mi = a - b\n",
    "mul = a * b\n",
    "sh = a // b\n",
    "re = a % b     # 9 % 4 -> 1\n",
    "div = a / b"
   ]
  },
  {
   "cell_type": "code",
   "execution_count": 3,
   "id": "7f06ebae",
   "metadata": {},
   "outputs": [
    {
     "name": "stdout",
     "output_type": "stream",
     "text": [
      "5 + 2 = 7\n",
      "5 - 2 = 3\n",
      "5 x 2 = 10\n",
      "5 ÷ 2 = 2 나머지 1\n",
      "5 ÷ 2 = 2.5\n"
     ]
    }
   ],
   "source": [
    "# 출력\n",
    "print(a, '+', b, \"=\", pl)\n",
    "print(a, '-', b, \"=\", mi)\n",
    "print(a, 'x', b, \"=\", mul)\n",
    "print(a, '÷', b, \"=\", sh, '나머지', re)\n",
    "print(a, '÷', b, \"=\", div)"
   ]
  },
  {
   "cell_type": "code",
   "execution_count": 4,
   "id": "776bcd0b",
   "metadata": {},
   "outputs": [
    {
     "data": {
      "text/plain": [
       "'someone'"
      ]
     },
     "execution_count": 4,
     "metadata": {},
     "output_type": "execute_result"
    }
   ],
   "source": [
    "'''\n",
    "2.변수에 문자열 'some1'을 할당하고 문자 '1' 을 one으로 변환합니다.\n",
    "\n",
    "출력 :someone\n",
    "'''\n",
    "s = 'some1'\n",
    "s = s.replace('1', 'one')\n",
    "s"
   ]
  },
  {
   "cell_type": "code",
   "execution_count": 5,
   "id": "61f31161",
   "metadata": {},
   "outputs": [
    {
     "data": {
      "text/plain": [
       "20"
      ]
     },
     "execution_count": 5,
     "metadata": {},
     "output_type": "execute_result"
    }
   ],
   "source": [
    "'''\n",
    "3.변수에 문자열 'How many characters?'을 할당하고 이 문자열의 문자를 출력합니다. \n",
    "공백도 포함되어야 합니다.\n",
    "\n",
    "출력 :20\n",
    "'''\n",
    "s = 'How many characters?'\n",
    "len(s)"
   ]
  },
  {
   "cell_type": "code",
   "execution_count": 10,
   "id": "888dfc28",
   "metadata": {},
   "outputs": [
    {
     "name": "stdout",
     "output_type": "stream",
     "text": [
      "<class 'int'>\n",
      "77\n"
     ]
    }
   ],
   "source": [
    "'''\n",
    "4.변수 a에 문자열 '34'을 대입 \n",
    "변수 b에 문자열 '43'을 할당하고 \n",
    "이를 숫자로 변환하고 더했을 때를 출력합니다.\n",
    "\n",
    "출력 :77\n",
    "'''\n",
    "a = '34'\n",
    "b = '43'\n",
    "\n",
    "c = int(a) + int(b)\n",
    "print(type(c))\n",
    "print(c)"
   ]
  },
  {
   "cell_type": "code",
   "execution_count": 11,
   "id": "c1308880",
   "metadata": {},
   "outputs": [
    {
     "name": "stdout",
     "output_type": "stream",
     "text": [
      "영어점수를 입력 > 65\n",
      "수학점수를 입력 > 88\n"
     ]
    }
   ],
   "source": [
    "'''\n",
    "5.키보드에서 영어와 수학 성적을 입력하고 입력 된 점수와 함께 \n",
    "점수의 합계 및 평균을 계산하고 표시하는 프로그램을 작성하라.\n",
    "\n",
    "영어 성적을 입력하십시오> 65\n",
    "수학 성적을 입력하십시오> 88\n",
    "영어 점수 : 65\n",
    "수학 점수 : 88\n",
    "합계 : 153\n",
    "평균 : 76.5\n",
    "'''\n",
    "eng = int(input('영어점수를 입력 > '))\n",
    "math = int(input('수학점수를 입력 > '))"
   ]
  },
  {
   "cell_type": "code",
   "execution_count": 12,
   "id": "35f5c777",
   "metadata": {},
   "outputs": [],
   "source": [
    "_sum = eng + math\n",
    "_avg = _sum / 2"
   ]
  },
  {
   "cell_type": "code",
   "execution_count": 13,
   "id": "28bb6874",
   "metadata": {},
   "outputs": [
    {
     "name": "stdout",
     "output_type": "stream",
     "text": [
      "영어: 65\n",
      "수학: 88\n",
      "합계: 153\n",
      "평균: 76.5\n"
     ]
    }
   ],
   "source": [
    "# 출력\n",
    "print('영어:', eng)\n",
    "print('수학:', math)\n",
    "\n",
    "print('합계:', _sum)\n",
    "print('평균:', _avg)"
   ]
  },
  {
   "cell_type": "code",
   "execution_count": null,
   "id": "b1302cd4",
   "metadata": {},
   "outputs": [],
   "source": []
  }
 ],
 "metadata": {
  "kernelspec": {
   "display_name": "Python 3 (ipykernel)",
   "language": "python",
   "name": "python3"
  },
  "language_info": {
   "codemirror_mode": {
    "name": "ipython",
    "version": 3
   },
   "file_extension": ".py",
   "mimetype": "text/x-python",
   "name": "python",
   "nbconvert_exporter": "python",
   "pygments_lexer": "ipython3",
   "version": "3.9.12"
  }
 },
 "nbformat": 4,
 "nbformat_minor": 5
}
