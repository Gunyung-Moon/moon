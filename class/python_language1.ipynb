{
 "cells": [
  {
   "cell_type": "code",
   "execution_count": 1,
   "id": "2bffc24d",
   "metadata": {},
   "outputs": [
    {
     "name": "stdout",
     "output_type": "stream",
     "text": [
      "hello python\n"
     ]
    }
   ],
   "source": [
    "print('hello python')"
   ]
  },
  {
   "cell_type": "markdown",
   "id": "6e5b8925",
   "metadata": {},
   "source": [
    "# 한줄 주석문"
   ]
  },
  {
   "cell_type": "markdown",
   "id": "869a0549",
   "metadata": {},
   "source": [
    "## 한줄 주석문"
   ]
  },
  {
   "cell_type": "markdown",
   "id": "c1f272a9",
   "metadata": {},
   "source": [
    "### 한줄 주석문"
   ]
  },
  {
   "cell_type": "code",
   "execution_count": 4,
   "id": "a16ef299",
   "metadata": {},
   "outputs": [
    {
     "data": {
      "text/plain": [
       "'\\n주석문\\n'"
      ]
     },
     "execution_count": 4,
     "metadata": {},
     "output_type": "execute_result"
    }
   ],
   "source": [
    "'''\n",
    "주석문\n",
    "'''"
   ]
  },
  {
   "cell_type": "code",
   "execution_count": 6,
   "id": "070ff33f",
   "metadata": {},
   "outputs": [],
   "source": [
    "import keyword  # 예약어 : 이 단어는 먼저 사용하고 있으니 사용불가!"
   ]
  },
  {
   "cell_type": "code",
   "execution_count": 7,
   "id": "09905e7b",
   "metadata": {},
   "outputs": [
    {
     "name": "stdout",
     "output_type": "stream",
     "text": [
      "['False', 'None', 'True', '__peg_parser__', 'and', 'as', 'assert', 'async', 'await', 'break', 'class', 'continue', 'def', 'del', 'elif', 'else', 'except', 'finally', 'for', 'from', 'global', 'if', 'import', 'in', 'is', 'lambda', 'nonlocal', 'not', 'or', 'pass', 'raise', 'return', 'try', 'while', 'with', 'yield']\n"
     ]
    }
   ],
   "source": [
    "print(keyword.kwlist)"
   ]
  },
  {
   "cell_type": "markdown",
   "id": "f88ac3a6",
   "metadata": {},
   "source": []
  },
  {
   "cell_type": "markdown",
   "id": "15cac74b",
   "metadata": {},
   "source": [
    "# 출력"
   ]
  },
  {
   "cell_type": "code",
   "execution_count": 8,
   "id": "57015610",
   "metadata": {},
   "outputs": [
    {
     "name": "stdout",
     "output_type": "stream",
     "text": [
      "안녕하세요 라고 말했습니다\n"
     ]
    }
   ],
   "source": [
    "print(\"안녕하세요 라고 말했습니다\")"
   ]
  },
  {
   "cell_type": "code",
   "execution_count": 10,
   "id": "28bacfa6",
   "metadata": {},
   "outputs": [
    {
     "name": "stdout",
     "output_type": "stream",
     "text": [
      "\"안녕하세요\" 라고 말했습니다\n"
     ]
    }
   ],
   "source": [
    "print(\"\\\"안녕하세요\\\" 라고 말했습니다\")"
   ]
  },
  {
   "cell_type": "code",
   "execution_count": 12,
   "id": "823b70f6",
   "metadata": {},
   "outputs": [
    {
     "name": "stdout",
     "output_type": "stream",
     "text": [
      "이름\t나이\t지역\n",
      "홍길동\t24\t서울\n"
     ]
    }
   ],
   "source": [
    "print(\"이름\\t나이\\t지역\")\n",
    "print(\"홍길동\\t24\\t서울\")"
   ]
  },
  {
   "cell_type": "code",
   "execution_count": 13,
   "id": "f43320bf",
   "metadata": {},
   "outputs": [
    {
     "name": "stdout",
     "output_type": "stream",
     "text": [
      "법원의 주호영 비상대책위원장의 직무정지 결정으로 \n",
      "지도부 공백 사태를 맞은 국민의힘이 29일 추석 연휴 전까지 \n",
      "새로운 비상대책위원회 출범을 완료하기로 했다.\n",
      "\n"
     ]
    }
   ],
   "source": [
    "print(\"\"\"법원의 주호영 비상대책위원장의 직무정지 결정으로 \n",
    "지도부 공백 사태를 맞은 국민의힘이 29일 추석 연휴 전까지 \n",
    "새로운 비상대책위원회 출범을 완료하기로 했다.\n",
    "\"\"\")"
   ]
  },
  {
   "cell_type": "code",
   "execution_count": 14,
   "id": "4197f2fb",
   "metadata": {},
   "outputs": [
    {
     "name": "stdout",
     "output_type": "stream",
     "text": [
      "안녕하세요안녕하세요안녕하세요\n"
     ]
    }
   ],
   "source": [
    "print(\"안녕하세요\" * 3)"
   ]
  },
  {
   "cell_type": "code",
   "execution_count": 15,
   "id": "8d4852c3",
   "metadata": {},
   "outputs": [
    {
     "name": "stdout",
     "output_type": "stream",
     "text": [
      "안\n"
     ]
    }
   ],
   "source": [
    "print(\"안녕하세요\"[0])  # 0 번지"
   ]
  },
  {
   "cell_type": "code",
   "execution_count": 16,
   "id": "dee65b54",
   "metadata": {},
   "outputs": [
    {
     "name": "stdout",
     "output_type": "stream",
     "text": [
      "녕\n"
     ]
    }
   ],
   "source": [
    "print(\"안녕하세요\"[1]) "
   ]
  },
  {
   "cell_type": "code",
   "execution_count": 18,
   "id": "07354f04",
   "metadata": {},
   "outputs": [
    {
     "name": "stdout",
     "output_type": "stream",
     "text": [
      "요\n"
     ]
    }
   ],
   "source": [
    "print(\"안녕하세요\"[-1]) "
   ]
  },
  {
   "cell_type": "code",
   "execution_count": 21,
   "id": "4dd7ce26",
   "metadata": {},
   "outputs": [
    {
     "name": "stdout",
     "output_type": "stream",
     "text": [
      "세\n"
     ]
    }
   ],
   "source": [
    "print(\"안녕하세요\"[-2]) "
   ]
  },
  {
   "cell_type": "code",
   "execution_count": 22,
   "id": "b530a9e1",
   "metadata": {},
   "outputs": [
    {
     "name": "stdout",
     "output_type": "stream",
     "text": [
      "하세\n"
     ]
    }
   ],
   "source": [
    "print(\"안녕하세요\"[2:4])"
   ]
  },
  {
   "cell_type": "code",
   "execution_count": 23,
   "id": "2727de07",
   "metadata": {},
   "outputs": [
    {
     "name": "stdout",
     "output_type": "stream",
     "text": [
      "하세요\n"
     ]
    }
   ],
   "source": [
    "print(\"안녕하세요\"[2:5])"
   ]
  },
  {
   "cell_type": "code",
   "execution_count": 24,
   "id": "80193621",
   "metadata": {},
   "outputs": [
    {
     "name": "stdout",
     "output_type": "stream",
     "text": [
      "하세요\n"
     ]
    }
   ],
   "source": [
    "print(\"안녕하세요\"[2:])"
   ]
  },
  {
   "cell_type": "code",
   "execution_count": 25,
   "id": "a715835c",
   "metadata": {},
   "outputs": [
    {
     "name": "stdout",
     "output_type": "stream",
     "text": [
      "안녕\n"
     ]
    }
   ],
   "source": [
    "print(\"안녕하세요\"[0:2])"
   ]
  },
  {
   "cell_type": "code",
   "execution_count": 26,
   "id": "d9c68bb5",
   "metadata": {},
   "outputs": [
    {
     "data": {
      "text/plain": [
       "5"
      ]
     },
     "execution_count": 26,
     "metadata": {},
     "output_type": "execute_result"
    }
   ],
   "source": [
    "len(\"안녕하세요\")      # length == 길이"
   ]
  },
  {
   "cell_type": "code",
   "execution_count": 27,
   "id": "302e33fd",
   "metadata": {},
   "outputs": [
    {
     "data": {
      "text/plain": [
       "str"
      ]
     },
     "execution_count": 27,
     "metadata": {},
     "output_type": "execute_result"
    }
   ],
   "source": [
    "type(\"안녕하세요\")    # string(문자열) "
   ]
  },
  {
   "cell_type": "code",
   "execution_count": 28,
   "id": "38f9686a",
   "metadata": {},
   "outputs": [
    {
     "data": {
      "text/plain": [
       "int"
      ]
     },
     "execution_count": 28,
     "metadata": {},
     "output_type": "execute_result"
    }
   ],
   "source": [
    "type(len(\"안녕하세요\")) # integer(정수)"
   ]
  },
  {
   "cell_type": "code",
   "execution_count": 29,
   "id": "56fec633",
   "metadata": {},
   "outputs": [
    {
     "data": {
      "text/plain": [
       "float"
      ]
     },
     "execution_count": 29,
     "metadata": {},
     "output_type": "execute_result"
    }
   ],
   "source": [
    "type(123.456)    # float(소수)"
   ]
  },
  {
   "cell_type": "code",
   "execution_count": 31,
   "id": "16e36705",
   "metadata": {},
   "outputs": [
    {
     "name": "stdout",
     "output_type": "stream",
     "text": [
      "3\n",
      "-1\n",
      "2\n",
      "0.5\n"
     ]
    }
   ],
   "source": [
    "print( 1 + 2 )\n",
    "print( 1 - 2 )\n",
    "print( 1 * 2 )\n",
    "print( 1 / 2 )"
   ]
  },
  {
   "cell_type": "code",
   "execution_count": 34,
   "id": "41c45182",
   "metadata": {
    "scrolled": true
   },
   "outputs": [
    {
     "ename": "ZeroDivisionError",
     "evalue": "division by zero",
     "output_type": "error",
     "traceback": [
      "\u001b[1;31m---------------------------------------------------------------------------\u001b[0m",
      "\u001b[1;31mZeroDivisionError\u001b[0m                         Traceback (most recent call last)",
      "Input \u001b[1;32mIn [34]\u001b[0m, in \u001b[0;36m<cell line: 1>\u001b[1;34m()\u001b[0m\n\u001b[1;32m----> 1\u001b[0m \u001b[38;5;28mprint\u001b[39m( \u001b[38;5;241;43m2\u001b[39;49m\u001b[43m \u001b[49m\u001b[38;5;241;43m/\u001b[39;49m\u001b[43m \u001b[49m\u001b[38;5;241;43m0\u001b[39;49m )\n",
      "\u001b[1;31mZeroDivisionError\u001b[0m: division by zero"
     ]
    }
   ],
   "source": [
    "print( 2 / 0 )"
   ]
  },
  {
   "cell_type": "code",
   "execution_count": 35,
   "id": "b4780640",
   "metadata": {},
   "outputs": [
    {
     "name": "stdout",
     "output_type": "stream",
     "text": [
      "1\n"
     ]
    }
   ],
   "source": [
    "print( 3 // 2 )  # 몫(정수)"
   ]
  },
  {
   "cell_type": "code",
   "execution_count": 36,
   "id": "beef4669",
   "metadata": {},
   "outputs": [
    {
     "name": "stdout",
     "output_type": "stream",
     "text": [
      "1.5\n"
     ]
    }
   ],
   "source": [
    "print( 3 / 2 )"
   ]
  },
  {
   "cell_type": "code",
   "execution_count": 39,
   "id": "3446fd28",
   "metadata": {},
   "outputs": [
    {
     "name": "stdout",
     "output_type": "stream",
     "text": [
      "9\n",
      "27\n"
     ]
    }
   ],
   "source": [
    "print( 3**2 ) # 승\n",
    "print( 3**3 )"
   ]
  },
  {
   "cell_type": "markdown",
   "id": "23c39beb",
   "metadata": {},
   "source": [
    " "
   ]
  },
  {
   "cell_type": "markdown",
   "id": "48cd0dcc",
   "metadata": {},
   "source": [
    "# 입력"
   ]
  },
  {
   "cell_type": "code",
   "execution_count": 7,
   "id": "02573064",
   "metadata": {},
   "outputs": [
    {
     "name": "stdout",
     "output_type": "stream",
     "text": [
      "입력 > 3\n",
      "3\n",
      "<class 'str'>\n"
     ]
    }
   ],
   "source": [
    "s = input(\"입력 > \")\n",
    "print(s)\n",
    "print(type(s))"
   ]
  },
  {
   "cell_type": "code",
   "execution_count": 8,
   "id": "e8b6544c",
   "metadata": {
    "scrolled": true
   },
   "outputs": [
    {
     "data": {
      "text/plain": [
       "4"
      ]
     },
     "execution_count": 8,
     "metadata": {},
     "output_type": "execute_result"
    }
   ],
   "source": [
    "int(s) + 1"
   ]
  },
  {
   "cell_type": "code",
   "execution_count": 6,
   "id": "1e4ffdfd",
   "metadata": {},
   "outputs": [
    {
     "data": {
      "text/plain": [
       "int"
      ]
     },
     "execution_count": 6,
     "metadata": {},
     "output_type": "execute_result"
    }
   ],
   "source": [
    "# 문자열 -> 숫자(정수)\n",
    "numStr = int(\"135\")\n",
    "type(numStr)"
   ]
  },
  {
   "cell_type": "code",
   "execution_count": 10,
   "id": "603c5183",
   "metadata": {},
   "outputs": [
    {
     "data": {
      "text/plain": [
       "float"
      ]
     },
     "execution_count": 10,
     "metadata": {},
     "output_type": "execute_result"
    }
   ],
   "source": [
    "# 문자열 -> 소수\n",
    "fNumStr = float(\"123.456\")\n",
    "type(fNumStr)"
   ]
  },
  {
   "cell_type": "code",
   "execution_count": 11,
   "id": "acd23a7e",
   "metadata": {},
   "outputs": [
    {
     "data": {
      "text/plain": [
       "str"
      ]
     },
     "execution_count": 11,
     "metadata": {},
     "output_type": "execute_result"
    }
   ],
   "source": [
    "# 숫자 -> 문자열\n",
    "num = str(34)\n",
    "type(num)"
   ]
  },
  {
   "cell_type": "markdown",
   "id": "24202f85",
   "metadata": {},
   "source": [
    " "
   ]
  },
  {
   "cell_type": "markdown",
   "id": "290f9c98",
   "metadata": {},
   "source": [
    "# Variable (변수)"
   ]
  },
  {
   "cell_type": "code",
   "execution_count": 19,
   "id": "827f296f",
   "metadata": {},
   "outputs": [
    {
     "data": {
      "text/plain": [
       "int"
      ]
     },
     "execution_count": 19,
     "metadata": {},
     "output_type": "execute_result"
    }
   ],
   "source": [
    "'''\n",
    "자료형 :\n",
    "        정수, 실수(소수)\n",
    "        문자열   \"안녕하세요\"\n",
    "        논리형   True, False \n",
    "        날짜형   \"2022/08/29\"\n",
    "        \n",
    "변수 : 변경되는 수\n",
    "        \n",
    "'''\n",
    "\n",
    "numStr = 123\n",
    "type(numStr)"
   ]
  },
  {
   "cell_type": "code",
   "execution_count": 13,
   "id": "0c61d412",
   "metadata": {},
   "outputs": [
    {
     "data": {
      "text/plain": [
       "'홍길동'"
      ]
     },
     "execution_count": 13,
     "metadata": {},
     "output_type": "execute_result"
    }
   ],
   "source": [
    "name = \"홍길동\"\n",
    "name"
   ]
  },
  {
   "cell_type": "code",
   "execution_count": 14,
   "id": "73b955ee",
   "metadata": {},
   "outputs": [
    {
     "data": {
      "text/plain": [
       "'성춘향'"
      ]
     },
     "execution_count": 14,
     "metadata": {},
     "output_type": "execute_result"
    }
   ],
   "source": [
    "name = \"성춘향\"\n",
    "name"
   ]
  },
  {
   "cell_type": "code",
   "execution_count": 20,
   "id": "a52f074c",
   "metadata": {},
   "outputs": [
    {
     "data": {
      "text/plain": [
       "123"
      ]
     },
     "execution_count": 20,
     "metadata": {},
     "output_type": "execute_result"
    }
   ],
   "source": [
    "numStr"
   ]
  },
  {
   "cell_type": "code",
   "execution_count": 21,
   "id": "d8f535f2",
   "metadata": {},
   "outputs": [
    {
     "data": {
      "text/plain": [
       "234"
      ]
     },
     "execution_count": 21,
     "metadata": {},
     "output_type": "execute_result"
    }
   ],
   "source": [
    "numStr = 234\n",
    "numStr"
   ]
  },
  {
   "cell_type": "code",
   "execution_count": 23,
   "id": "652888db",
   "metadata": {},
   "outputs": [
    {
     "data": {
      "text/plain": [
       "123.456"
      ]
     },
     "execution_count": 23,
     "metadata": {},
     "output_type": "execute_result"
    }
   ],
   "source": [
    "floatNum = 123.456\n",
    "floatNum"
   ]
  },
  {
   "cell_type": "code",
   "execution_count": 24,
   "id": "587d19f1",
   "metadata": {},
   "outputs": [
    {
     "data": {
      "text/plain": [
       "float"
      ]
     },
     "execution_count": 24,
     "metadata": {},
     "output_type": "execute_result"
    }
   ],
   "source": [
    "type(floatNum)"
   ]
  },
  {
   "cell_type": "code",
   "execution_count": 33,
   "id": "7dcaaf9d",
   "metadata": {},
   "outputs": [
    {
     "data": {
      "text/plain": [
       "234"
      ]
     },
     "execution_count": 33,
     "metadata": {},
     "output_type": "execute_result"
    }
   ],
   "source": [
    "floatNum = 234\n",
    "floatNum"
   ]
  },
  {
   "cell_type": "code",
   "execution_count": 35,
   "id": "eb84640a",
   "metadata": {},
   "outputs": [
    {
     "data": {
      "text/plain": [
       "'world'"
      ]
     },
     "execution_count": 35,
     "metadata": {},
     "output_type": "execute_result"
    }
   ],
   "source": [
    "floatNum = \"world\"\n",
    "floatNum"
   ]
  },
  {
   "cell_type": "code",
   "execution_count": 30,
   "id": "e1ba7c4e",
   "metadata": {},
   "outputs": [
    {
     "data": {
      "text/plain": [
       "True"
      ]
     },
     "execution_count": 30,
     "metadata": {},
     "output_type": "execute_result"
    }
   ],
   "source": [
    "boolVar = True\n",
    "boolVar"
   ]
  },
  {
   "cell_type": "code",
   "execution_count": 31,
   "id": "3e450e3d",
   "metadata": {},
   "outputs": [
    {
     "data": {
      "text/plain": [
       "False"
      ]
     },
     "execution_count": 31,
     "metadata": {},
     "output_type": "execute_result"
    }
   ],
   "source": [
    "boolVar = False\n",
    "boolVar"
   ]
  },
  {
   "cell_type": "code",
   "execution_count": 36,
   "id": "40ce0e5d",
   "metadata": {},
   "outputs": [
    {
     "ename": "TypeError",
     "evalue": "unsupported operand type(s) for +: 'int' and 'str'",
     "output_type": "error",
     "traceback": [
      "\u001b[1;31m---------------------------------------------------------------------------\u001b[0m",
      "\u001b[1;31mTypeError\u001b[0m                                 Traceback (most recent call last)",
      "Input \u001b[1;32mIn [36]\u001b[0m, in \u001b[0;36m<cell line: 1>\u001b[1;34m()\u001b[0m\n\u001b[1;32m----> 1\u001b[0m \u001b[43mnumStr\u001b[49m\u001b[43m \u001b[49m\u001b[38;5;241;43m+\u001b[39;49m\u001b[43m \u001b[49m\u001b[43mfloatNum\u001b[49m\n",
      "\u001b[1;31mTypeError\u001b[0m: unsupported operand type(s) for +: 'int' and 'str'"
     ]
    }
   ],
   "source": [
    "numStr + floatNum"
   ]
  },
  {
   "cell_type": "code",
   "execution_count": 40,
   "id": "20d04100",
   "metadata": {},
   "outputs": [],
   "source": [
    "# 변수명명 규칙\n",
    "# 0ab = 123\n",
    "ab0 = 123\n",
    "# 너무 간단히 기입을 안하는것이 좋다\n",
    "n = 200\n",
    "Number = 123\n",
    "\n",
    "numPosX = 120.0"
   ]
  },
  {
   "cell_type": "markdown",
   "id": "8fc6a68a",
   "metadata": {},
   "source": [
    " "
   ]
  },
  {
   "cell_type": "markdown",
   "id": "a1e897af",
   "metadata": {},
   "source": [
    "### str <- 변수명으로 사용하지 말자!"
   ]
  },
  {
   "cell_type": "code",
   "execution_count": 41,
   "id": "66303224",
   "metadata": {},
   "outputs": [
    {
     "data": {
      "text/plain": [
       "'Hello Python Programming'"
      ]
     },
     "execution_count": 41,
     "metadata": {},
     "output_type": "execute_result"
    }
   ],
   "source": [
    "str_a = \"Hello Python Programming\"\n",
    "\n",
    "str_b = str_a\n",
    "\n",
    "str_b"
   ]
  },
  {
   "cell_type": "code",
   "execution_count": 42,
   "id": "f07f897b",
   "metadata": {},
   "outputs": [
    {
     "data": {
      "text/plain": [
       "['Hello', 'Python', 'Programming']"
      ]
     },
     "execution_count": 42,
     "metadata": {},
     "output_type": "execute_result"
    }
   ],
   "source": [
    "### 문자열 자르기\n",
    "str_split = str_a.split(\" \")\n",
    "str_split"
   ]
  },
  {
   "cell_type": "code",
   "execution_count": 43,
   "id": "ffbec4ad",
   "metadata": {},
   "outputs": [
    {
     "data": {
      "text/plain": [
       "'Hello'"
      ]
     },
     "execution_count": 43,
     "metadata": {},
     "output_type": "execute_result"
    }
   ],
   "source": [
    "str_split[0]"
   ]
  },
  {
   "cell_type": "code",
   "execution_count": 44,
   "id": "6e7e7f22",
   "metadata": {},
   "outputs": [
    {
     "data": {
      "text/plain": [
       "'Programming'"
      ]
     },
     "execution_count": 44,
     "metadata": {},
     "output_type": "execute_result"
    }
   ],
   "source": [
    "str_split[2]"
   ]
  },
  {
   "cell_type": "code",
   "execution_count": 45,
   "id": "e10922e9",
   "metadata": {},
   "outputs": [
    {
     "data": {
      "text/plain": [
       "['2022', '12', '25']"
      ]
     },
     "execution_count": 45,
     "metadata": {},
     "output_type": "execute_result"
    }
   ],
   "source": [
    "str_b = \"2022/12/25\"\n",
    "\n",
    "str_split = str_b.split(\"/\")\n",
    "str_split"
   ]
  },
  {
   "cell_type": "code",
   "execution_count": 46,
   "id": "6043d9ff",
   "metadata": {},
   "outputs": [
    {
     "data": {
      "text/plain": [
       "['2022', '12', '25']"
      ]
     },
     "execution_count": 46,
     "metadata": {},
     "output_type": "execute_result"
    }
   ],
   "source": [
    "str_b = \"2022-12-25\"\n",
    "\n",
    "str_split = str_b.split(\"-\")  # token\n",
    "str_split"
   ]
  },
  {
   "cell_type": "code",
   "execution_count": 47,
   "id": "4dbd6d53",
   "metadata": {},
   "outputs": [
    {
     "name": "stdout",
     "output_type": "stream",
     "text": [
      "15:25:37\n"
     ]
    }
   ],
   "source": [
    "print( \":\".join([\"15\", \"25\", \"37\"]) )"
   ]
  },
  {
   "cell_type": "code",
   "execution_count": 48,
   "id": "abdc4f74",
   "metadata": {},
   "outputs": [
    {
     "name": "stdout",
     "output_type": "stream",
     "text": [
      "15,25,37\n"
     ]
    }
   ],
   "source": [
    "print( \",\".join([\"15\", \"25\", \"37\"]) )"
   ]
  },
  {
   "cell_type": "code",
   "execution_count": 50,
   "id": "91c0642a",
   "metadata": {},
   "outputs": [
    {
     "data": {
      "text/plain": [
       "'Python Python  Python'"
      ]
     },
     "execution_count": 50,
     "metadata": {},
     "output_type": "execute_result"
    }
   ],
   "source": [
    "# 앞뒤 공백없애기\n",
    "str_a = \"    Python Python  Python            \"\n",
    "str_a.strip()"
   ]
  },
  {
   "cell_type": "code",
   "execution_count": 51,
   "id": "11863976",
   "metadata": {},
   "outputs": [
    {
     "data": {
      "text/plain": [
       "'PythonPythonPython'"
      ]
     },
     "execution_count": 51,
     "metadata": {},
     "output_type": "execute_result"
    }
   ],
   "source": [
    "# 수정\n",
    "str_a.replace(\" \", \"\")"
   ]
  },
  {
   "cell_type": "code",
   "execution_count": 52,
   "id": "04d8d2e3",
   "metadata": {},
   "outputs": [
    {
     "data": {
      "text/plain": [
       "True"
      ]
     },
     "execution_count": 52,
     "metadata": {},
     "output_type": "execute_result"
    }
   ],
   "source": [
    "# 문자열 조사: 영어, 한글, 숫자로 되어 있으면 True\n",
    "\"TrainA10한글\".isalnum()"
   ]
  },
  {
   "cell_type": "code",
   "execution_count": 54,
   "id": "f933958c",
   "metadata": {},
   "outputs": [
    {
     "data": {
      "text/plain": [
       "False"
      ]
     },
     "execution_count": 54,
     "metadata": {},
     "output_type": "execute_result"
    }
   ],
   "source": [
    "str_b = \"Train&A10한글\"\n",
    "str_b.isalnum()"
   ]
  },
  {
   "cell_type": "code",
   "execution_count": 55,
   "id": "7645e61e",
   "metadata": {},
   "outputs": [
    {
     "data": {
      "text/plain": [
       "True"
      ]
     },
     "execution_count": 55,
     "metadata": {},
     "output_type": "execute_result"
    }
   ],
   "source": [
    "# 숫자로 이루허 있는지 조사\n",
    "\"123\".isdigit()"
   ]
  },
  {
   "cell_type": "code",
   "execution_count": 56,
   "id": "97f9b72c",
   "metadata": {},
   "outputs": [
    {
     "data": {
      "text/plain": [
       "False"
      ]
     },
     "execution_count": 56,
     "metadata": {},
     "output_type": "execute_result"
    }
   ],
   "source": [
    "\"123a\".isdigit()"
   ]
  },
  {
   "cell_type": "code",
   "execution_count": 58,
   "id": "2d678b59",
   "metadata": {},
   "outputs": [
    {
     "data": {
      "text/plain": [
       "2"
      ]
     },
     "execution_count": 58,
     "metadata": {},
     "output_type": "execute_result"
    }
   ],
   "source": [
    "out_str = \"하이안녕안녕하세요\".find(\"안녕\")\n",
    "out_str"
   ]
  },
  {
   "cell_type": "code",
   "execution_count": 59,
   "id": "05f46226",
   "metadata": {},
   "outputs": [
    {
     "data": {
      "text/plain": [
       "4"
      ]
     },
     "execution_count": 59,
     "metadata": {},
     "output_type": "execute_result"
    }
   ],
   "source": [
    "out_str = \"하이안녕안녕하세요\".rfind(\"안녕\")\n",
    "out_str"
   ]
  },
  {
   "cell_type": "code",
   "execution_count": 64,
   "id": "0beb9a1d",
   "metadata": {},
   "outputs": [
    {
     "name": "stdout",
     "output_type": "stream",
     "text": [
      "True\n",
      "False\n",
      "True\n",
      "False\n",
      "True\n"
     ]
    }
   ],
   "source": [
    "### 논리 True or False\n",
    "print(10 == 10)\n",
    "print(10 == 100)\n",
    "print(10 != 100)\n",
    "print(10 >= 100)\n",
    "print(10 <= 100)"
   ]
  },
  {
   "cell_type": "code",
   "execution_count": 65,
   "id": "fa20ff86",
   "metadata": {},
   "outputs": [
    {
     "name": "stdout",
     "output_type": "stream",
     "text": [
      "True\n"
     ]
    }
   ],
   "source": [
    "print(\"가방\" < \"하마\")"
   ]
  },
  {
   "cell_type": "code",
   "execution_count": 67,
   "id": "6b005dc8",
   "metadata": {},
   "outputs": [
    {
     "name": "stdout",
     "output_type": "stream",
     "text": [
      "True\n",
      "True\n"
     ]
    }
   ],
   "source": [
    "x = 5\n",
    "print(x > 0 and x < 10)\n",
    "print(x < 6 or x > 10)"
   ]
  },
  {
   "cell_type": "code",
   "execution_count": 68,
   "id": "c4df6f2c",
   "metadata": {},
   "outputs": [
    {
     "name": "stdout",
     "output_type": "stream",
     "text": [
      "True\n"
     ]
    }
   ],
   "source": [
    "print(0 < x < 10)"
   ]
  },
  {
   "cell_type": "code",
   "execution_count": null,
   "id": "d2a5249f",
   "metadata": {},
   "outputs": [],
   "source": []
  }
 ],
 "metadata": {
  "kernelspec": {
   "display_name": "Python 3.10.6 64-bit",
   "language": "python",
   "name": "python3"
  },
  "language_info": {
   "codemirror_mode": {
    "name": "ipython",
    "version": 3
   },
   "file_extension": ".py",
   "mimetype": "text/x-python",
   "name": "python",
   "nbconvert_exporter": "python",
   "pygments_lexer": "ipython3",
   "version": "3.10.6"
  },
  "vscode": {
   "interpreter": {
    "hash": "aee8b7b246df8f9039afb4144a1f6fd8d2ca17a180786b69acc140d282b71a49"
   }
  }
 },
 "nbformat": 4,
 "nbformat_minor": 5
}
